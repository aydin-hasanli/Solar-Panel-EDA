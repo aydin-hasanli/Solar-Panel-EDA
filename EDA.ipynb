{
 "cells": [
  {
   "cell_type": "code",
   "execution_count": 36,
   "metadata": {},
   "outputs": [],
   "source": [
    "import pandas as pd\n",
    "import numpy as np\n",
    "import matplotlib.pyplot as plt\n",
    "import glob\n",
    "import os\n",
    "import seaborn as sns"
   ]
  },
  {
   "cell_type": "code",
   "execution_count": 2,
   "metadata": {},
   "outputs": [],
   "source": [
    "from scipy import stats"
   ]
  },
  {
   "cell_type": "code",
   "execution_count": 4,
   "metadata": {},
   "outputs": [],
   "source": [
    "# used below code to concatenate two csv files \n",
    "path = r'/home/aydin/Desktop/dsi_lax3/capstones/capstone1/Tracking-the-Sun/data'#path to the files\n",
    "all_files = glob.glob(os.path.join(path, \"*.csv\")) \n",
    "df_from_each_file = (pd.read_csv(f, engine = 'python') for f in all_files)\n",
    "df = pd.concat(df_from_each_file, ignore_index=True)"
   ]
  },
  {
   "cell_type": "code",
   "execution_count": 39,
   "metadata": {},
   "outputs": [
    {
     "data": {
      "text/plain": [
       "(1543831, 60)"
      ]
     },
     "execution_count": 39,
     "metadata": {},
     "output_type": "execute_result"
    }
   ],
   "source": [
    "df.shape"
   ]
  },
  {
   "cell_type": "code",
   "execution_count": 40,
   "metadata": {},
   "outputs": [
    {
     "data": {
      "text/html": [
       "<div>\n",
       "<style scoped>\n",
       "    .dataframe tbody tr th:only-of-type {\n",
       "        vertical-align: middle;\n",
       "    }\n",
       "\n",
       "    .dataframe tbody tr th {\n",
       "        vertical-align: top;\n",
       "    }\n",
       "\n",
       "    .dataframe thead th {\n",
       "        text-align: right;\n",
       "    }\n",
       "</style>\n",
       "<table border=\"1\" class=\"dataframe\">\n",
       "  <thead>\n",
       "    <tr style=\"text-align: right;\">\n",
       "      <th></th>\n",
       "      <th>Data Provider</th>\n",
       "      <th>System ID (from first Data Provider)</th>\n",
       "      <th>System ID (from second Data Provider, if applicable)</th>\n",
       "      <th>System ID (Tracking the Sun)</th>\n",
       "      <th>Installation Date</th>\n",
       "      <th>System Size</th>\n",
       "      <th>Total Installed Price</th>\n",
       "      <th>Appraised Value Flag</th>\n",
       "      <th>Sales Tax Cost</th>\n",
       "      <th>Rebate or Grant</th>\n",
       "      <th>...</th>\n",
       "      <th>Inverter Manufacturer #3</th>\n",
       "      <th>Inverter Model #1</th>\n",
       "      <th>Inverter Model #2</th>\n",
       "      <th>Inverter Model #3</th>\n",
       "      <th>Microinverter #1</th>\n",
       "      <th>Microinverter #2</th>\n",
       "      <th>Microinverter #3</th>\n",
       "      <th>System Inverter Capacity</th>\n",
       "      <th>DC Optimizer</th>\n",
       "      <th>Inverter Loading Ratio</th>\n",
       "    </tr>\n",
       "  </thead>\n",
       "  <tbody>\n",
       "    <tr>\n",
       "      <th>0</th>\n",
       "      <td>Arkansas State Energy Office</td>\n",
       "      <td>-9999</td>\n",
       "      <td>-9999</td>\n",
       "      <td>AR_y4H4nGRh77</td>\n",
       "      <td>4/29/2010</td>\n",
       "      <td>2.016</td>\n",
       "      <td>14558.0</td>\n",
       "      <td>False</td>\n",
       "      <td>510.762764</td>\n",
       "      <td>0.0</td>\n",
       "      <td>...</td>\n",
       "      <td>-9999</td>\n",
       "      <td>-9999</td>\n",
       "      <td>-9999</td>\n",
       "      <td>-9999</td>\n",
       "      <td>1</td>\n",
       "      <td>-9999</td>\n",
       "      <td>-9999</td>\n",
       "      <td>1.71</td>\n",
       "      <td>0</td>\n",
       "      <td>1.178947</td>\n",
       "    </tr>\n",
       "    <tr>\n",
       "      <th>1</th>\n",
       "      <td>Arkansas State Energy Office</td>\n",
       "      <td>-9999</td>\n",
       "      <td>-9999</td>\n",
       "      <td>AR_J87exIa4x7</td>\n",
       "      <td>4/26/2010</td>\n",
       "      <td>3.360</td>\n",
       "      <td>26096.0</td>\n",
       "      <td>False</td>\n",
       "      <td>851.271273</td>\n",
       "      <td>0.0</td>\n",
       "      <td>...</td>\n",
       "      <td>-9999</td>\n",
       "      <td>-9999</td>\n",
       "      <td>-9999</td>\n",
       "      <td>-9999</td>\n",
       "      <td>1</td>\n",
       "      <td>-9999</td>\n",
       "      <td>-9999</td>\n",
       "      <td>2.85</td>\n",
       "      <td>0</td>\n",
       "      <td>1.178947</td>\n",
       "    </tr>\n",
       "    <tr>\n",
       "      <th>2</th>\n",
       "      <td>Arkansas State Energy Office</td>\n",
       "      <td>-9999</td>\n",
       "      <td>-9999</td>\n",
       "      <td>AR_oC05quuYoK</td>\n",
       "      <td>4/20/2010</td>\n",
       "      <td>13.440</td>\n",
       "      <td>91139.0</td>\n",
       "      <td>False</td>\n",
       "      <td>3405.085091</td>\n",
       "      <td>0.0</td>\n",
       "      <td>...</td>\n",
       "      <td>-9999</td>\n",
       "      <td>-9999</td>\n",
       "      <td>-9999</td>\n",
       "      <td>-9999</td>\n",
       "      <td>1</td>\n",
       "      <td>-9999</td>\n",
       "      <td>-9999</td>\n",
       "      <td>11.40</td>\n",
       "      <td>0</td>\n",
       "      <td>1.178947</td>\n",
       "    </tr>\n",
       "    <tr>\n",
       "      <th>3</th>\n",
       "      <td>Arkansas State Energy Office</td>\n",
       "      <td>-9999</td>\n",
       "      <td>-9999</td>\n",
       "      <td>AR_rBRCGzrT6C</td>\n",
       "      <td>4/21/2010</td>\n",
       "      <td>5.520</td>\n",
       "      <td>40043.0</td>\n",
       "      <td>False</td>\n",
       "      <td>1398.517091</td>\n",
       "      <td>0.0</td>\n",
       "      <td>...</td>\n",
       "      <td>-9999</td>\n",
       "      <td>-9999</td>\n",
       "      <td>-9999</td>\n",
       "      <td>-9999</td>\n",
       "      <td>1</td>\n",
       "      <td>-9999</td>\n",
       "      <td>-9999</td>\n",
       "      <td>4.56</td>\n",
       "      <td>0</td>\n",
       "      <td>1.210526</td>\n",
       "    </tr>\n",
       "    <tr>\n",
       "      <th>4</th>\n",
       "      <td>Arkansas State Energy Office</td>\n",
       "      <td>-9999</td>\n",
       "      <td>-9999</td>\n",
       "      <td>AR_bXvxLeboru</td>\n",
       "      <td>4/22/2010</td>\n",
       "      <td>2.530</td>\n",
       "      <td>21497.0</td>\n",
       "      <td>False</td>\n",
       "      <td>640.987000</td>\n",
       "      <td>0.0</td>\n",
       "      <td>...</td>\n",
       "      <td>-9999</td>\n",
       "      <td>-9999</td>\n",
       "      <td>-9999</td>\n",
       "      <td>-9999</td>\n",
       "      <td>1</td>\n",
       "      <td>-9999</td>\n",
       "      <td>-9999</td>\n",
       "      <td>2.09</td>\n",
       "      <td>0</td>\n",
       "      <td>1.210526</td>\n",
       "    </tr>\n",
       "  </tbody>\n",
       "</table>\n",
       "<p>5 rows × 60 columns</p>\n",
       "</div>"
      ],
      "text/plain": [
       "                  Data Provider System ID (from first Data Provider)  \\\n",
       "0  Arkansas State Energy Office                                -9999   \n",
       "1  Arkansas State Energy Office                                -9999   \n",
       "2  Arkansas State Energy Office                                -9999   \n",
       "3  Arkansas State Energy Office                                -9999   \n",
       "4  Arkansas State Energy Office                                -9999   \n",
       "\n",
       "  System ID (from second Data Provider, if applicable)  \\\n",
       "0                                              -9999     \n",
       "1                                              -9999     \n",
       "2                                              -9999     \n",
       "3                                              -9999     \n",
       "4                                              -9999     \n",
       "\n",
       "  System ID (Tracking the Sun) Installation Date  System Size  \\\n",
       "0                AR_y4H4nGRh77         4/29/2010        2.016   \n",
       "1                AR_J87exIa4x7         4/26/2010        3.360   \n",
       "2                AR_oC05quuYoK         4/20/2010       13.440   \n",
       "3                AR_rBRCGzrT6C         4/21/2010        5.520   \n",
       "4                AR_bXvxLeboru         4/22/2010        2.530   \n",
       "\n",
       "   Total Installed Price  Appraised Value Flag  Sales Tax Cost  \\\n",
       "0                14558.0                 False      510.762764   \n",
       "1                26096.0                 False      851.271273   \n",
       "2                91139.0                 False     3405.085091   \n",
       "3                40043.0                 False     1398.517091   \n",
       "4                21497.0                 False      640.987000   \n",
       "\n",
       "   Rebate or Grant  ...  Inverter Manufacturer #3  Inverter Model #1  \\\n",
       "0              0.0  ...                     -9999              -9999   \n",
       "1              0.0  ...                     -9999              -9999   \n",
       "2              0.0  ...                     -9999              -9999   \n",
       "3              0.0  ...                     -9999              -9999   \n",
       "4              0.0  ...                     -9999              -9999   \n",
       "\n",
       "   Inverter Model #2  Inverter Model #3 Microinverter #1  Microinverter #2  \\\n",
       "0              -9999              -9999                1             -9999   \n",
       "1              -9999              -9999                1             -9999   \n",
       "2              -9999              -9999                1             -9999   \n",
       "3              -9999              -9999                1             -9999   \n",
       "4              -9999              -9999                1             -9999   \n",
       "\n",
       "   Microinverter #3  System Inverter Capacity  DC Optimizer  \\\n",
       "0             -9999                      1.71             0   \n",
       "1             -9999                      2.85             0   \n",
       "2             -9999                     11.40             0   \n",
       "3             -9999                      4.56             0   \n",
       "4             -9999                      2.09             0   \n",
       "\n",
       "  Inverter Loading Ratio  \n",
       "0               1.178947  \n",
       "1               1.178947  \n",
       "2               1.178947  \n",
       "3               1.210526  \n",
       "4               1.210526  \n",
       "\n",
       "[5 rows x 60 columns]"
      ]
     },
     "execution_count": 40,
     "metadata": {},
     "output_type": "execute_result"
    }
   ],
   "source": [
    "df.head()"
   ]
  },
  {
   "cell_type": "code",
   "execution_count": 5,
   "metadata": {},
   "outputs": [],
   "source": [
    "#Cleaning empty values, in this dataset they are denoted as -9999\n",
    "df_rep=df.copy()\n",
    "#df_rep['Rebate or Grant'].replace(-9999,0)\n",
    "\n",
    "df_rep=df_rep.replace(-9999, np.nan)\n",
    "df_rep=df_rep.replace('-9999',np.nan) # some of them are in string form\n",
    "df_rep=df_rep.replace(-9999.0,np.nan)\n",
    "df_rep=df_rep.fillna({'Rebate or Grant':0})\n",
    "df_rep=df_rep[df_rep['Total Installed Price'].notna()]"
   ]
  },
  {
   "cell_type": "code",
   "execution_count": 6,
   "metadata": {},
   "outputs": [],
   "source": [
    "df_rep['cost_per_KW']= df_rep['Total Installed Price']/df['System Size']\n",
    "df_rep['cost_per_KW_with_rebate']= round((df_rep['Total Installed Price']-df_rep['Rebate or Grant'])/df_rep['System Size'],2)\n",
    "#create year column\n",
    "df_rep['year']=df_rep['Installation Date'].apply(lambda x : int(x.split('/')[2]))\n",
    "#create time column\n",
    "df_rep['date']=df_rep['Installation Date'].apply(lambda x : x.split('/')[0] +'-' +x.split('/')[1])"
   ]
  },
  {
   "cell_type": "code",
   "execution_count": 37,
   "metadata": {},
   "outputs": [
    {
     "data": {
      "text/plain": [
       "1187660"
      ]
     },
     "execution_count": 37,
     "metadata": {},
     "output_type": "execute_result"
    }
   ],
   "source": [
    "df_rep['Total Installed Price'].notna().sum()"
   ]
  },
  {
   "cell_type": "code",
   "execution_count": 38,
   "metadata": {},
   "outputs": [
    {
     "data": {
      "text/plain": [
       "RES           0.944009\n",
       "COM           0.961766\n",
       "NON-RES       0.972001\n",
       "GOV           0.975557\n",
       "NON-PROFIT    0.978000\n",
       "SCHOOL        0.979582\n",
       "Name: Customer Segment, dtype: float64"
      ]
     },
     "execution_count": 38,
     "metadata": {},
     "output_type": "execute_result"
    }
   ],
   "source": [
    "#cumulative percentage in segments\n",
    "df_rep['Customer Segment'].value_counts().cumsum()/1187660"
   ]
  },
  {
   "cell_type": "code",
   "execution_count": 39,
   "metadata": {},
   "outputs": [
    {
     "name": "stdout",
     "output_type": "stream",
     "text": [
      "<class 'pandas.core.frame.DataFrame'>\n",
      "Int64Index: 1187660 entries, 0 to 1543830\n",
      "Data columns (total 64 columns):\n",
      " #   Column                                                Non-Null Count    Dtype  \n",
      "---  ------                                                --------------    -----  \n",
      " 0   Data Provider                                         1187660 non-null  object \n",
      " 1   System ID (from first Data Provider)                  1139552 non-null  object \n",
      " 2   System ID (from second Data Provider, if applicable)  235025 non-null   object \n",
      " 3   System ID (Tracking the Sun)                          1187660 non-null  object \n",
      " 4   Installation Date                                     1187660 non-null  object \n",
      " 5   System Size                                           1187660 non-null  float64\n",
      " 6   Total Installed Price                                 1187660 non-null  float64\n",
      " 7   Appraised Value Flag                                  1187660 non-null  bool   \n",
      " 8   Sales Tax Cost                                        1187465 non-null  float64\n",
      " 9   Rebate or Grant                                       1187660 non-null  float64\n",
      " 10  Performance-Based Incentive (Annual Payment)          1180019 non-null  float64\n",
      " 11  Performance-Based Incentives (Duration)               1180019 non-null  float64\n",
      " 12  Feed-in Tariff (Annual Payment)                       1187659 non-null  float64\n",
      " 13  Feed-in Tariff (Duration)                             1187659 non-null  float64\n",
      " 14  Customer Segment                                      1163410 non-null  object \n",
      " 15  New Construction                                      728655 non-null   float64\n",
      " 16  Tracking                                              832036 non-null   float64\n",
      " 17  Ground Mounted                                        681027 non-null   float64\n",
      " 18  Battery System                                        787541 non-null   float64\n",
      " 19  Zip Code                                              1103229 non-null  object \n",
      " 20  City                                                  1070130 non-null  object \n",
      " 21  State                                                 1187660 non-null  object \n",
      " 22  Utility Service Territory                             1136980 non-null  object \n",
      " 23  Third-Party Owned                                     1084928 non-null  float64\n",
      " 24  Installer Name                                        1078570 non-null  object \n",
      " 25  Self-Installed                                        983489 non-null   float64\n",
      " 26  Azimuth #1                                            705587 non-null   float64\n",
      " 27  Azimuth #2                                            84758 non-null    float64\n",
      " 28  Azimuth #3                                            26088 non-null    float64\n",
      " 29  Tilt #1                                               707211 non-null   float64\n",
      " 30  Tilt #2                                               85044 non-null    float64\n",
      " 31  Tilt #3                                               25831 non-null    float64\n",
      " 32  Module Manufacturer #1                                1045070 non-null  object \n",
      " 33  Module Model #1                                       1096660 non-null  object \n",
      " 34  Module Manufacturer #2                                52311 non-null    object \n",
      " 35  Module Model #2                                       46054 non-null    object \n",
      " 36  Module Manufacturer #3                                14930 non-null    object \n",
      " 37  Module Model #3                                       13509 non-null    object \n",
      " 38  Additional module model                               865868 non-null   float64\n",
      " 39  Module Technology #1                                  1011864 non-null  object \n",
      " 40  Module Technology #2                                  51675 non-null    object \n",
      " 41  Module Technology #3                                  14771 non-null    object \n",
      " 42  BIPV Module #1                                        997634 non-null   float64\n",
      " 43  BIPV Module #2                                        50644 non-null    float64\n",
      " 44  BIPV Module #3                                        14612 non-null    float64\n",
      " 45  Module Efficiency #1                                  911124 non-null   float64\n",
      " 46  Module Efficiency #2                                  45435 non-null    float64\n",
      " 47  Module Efficiency #3                                  13334 non-null    float64\n",
      " 48  Inverter Manufacturer #1                              954331 non-null   object \n",
      " 49  Inverter Manufacturer #2                              38923 non-null    object \n",
      " 50  Inverter Manufacturer #3                              4032 non-null     object \n",
      " 51  Inverter Model #1                                     529537 non-null   object \n",
      " 52  Inverter Model #2                                     19817 non-null    object \n",
      " 53  Inverter Model #3                                     2100 non-null     object \n",
      " 54  Microinverter #1                                      951903 non-null   float64\n",
      " 55  Microinverter #2                                      38765 non-null    float64\n",
      " 56  Microinverter #3                                      4027 non-null     float64\n",
      " 57  System Inverter Capacity                              903127 non-null   float64\n",
      " 58  DC Optimizer                                          1179615 non-null  float64\n",
      " 59  Inverter Loading Ratio                                902013 non-null   float64\n",
      " 60  cost_per_KW                                           1187660 non-null  float64\n",
      " 61  cost_per_KW_with_rebate                               1187660 non-null  float64\n",
      " 62  year                                                  1187660 non-null  int64  \n",
      " 63  date                                                  1187660 non-null  object \n",
      "dtypes: bool(1), float64(35), int64(1), object(27)\n",
      "memory usage: 621.0+ MB\n"
     ]
    }
   ],
   "source": [
    "df_rep.info()"
   ]
  },
  {
   "cell_type": "code",
   "execution_count": 40,
   "metadata": {},
   "outputs": [
    {
     "data": {
      "text/html": [
       "<div>\n",
       "<style scoped>\n",
       "    .dataframe tbody tr th:only-of-type {\n",
       "        vertical-align: middle;\n",
       "    }\n",
       "\n",
       "    .dataframe tbody tr th {\n",
       "        vertical-align: top;\n",
       "    }\n",
       "\n",
       "    .dataframe thead th {\n",
       "        text-align: right;\n",
       "    }\n",
       "</style>\n",
       "<table border=\"1\" class=\"dataframe\">\n",
       "  <thead>\n",
       "    <tr style=\"text-align: right;\">\n",
       "      <th></th>\n",
       "      <th>Module Technology #1</th>\n",
       "      <th>Module Technology #2</th>\n",
       "      <th>Module Technology #3</th>\n",
       "      <th>Module Manufacturer #1</th>\n",
       "      <th>Module Manufacturer #2</th>\n",
       "      <th>Module Manufacturer #3</th>\n",
       "    </tr>\n",
       "  </thead>\n",
       "  <tbody>\n",
       "    <tr>\n",
       "      <th>100439</th>\n",
       "      <td>Mono</td>\n",
       "      <td>Mono</td>\n",
       "      <td>Mono</td>\n",
       "      <td>LG Electronics</td>\n",
       "      <td>LG Electronics</td>\n",
       "      <td>LG Electronics</td>\n",
       "    </tr>\n",
       "    <tr>\n",
       "      <th>100855</th>\n",
       "      <td>Poly</td>\n",
       "      <td>Poly</td>\n",
       "      <td>Poly</td>\n",
       "      <td>Sharp</td>\n",
       "      <td>Sharp</td>\n",
       "      <td>Sharp</td>\n",
       "    </tr>\n",
       "    <tr>\n",
       "      <th>101126</th>\n",
       "      <td>multiple</td>\n",
       "      <td>Poly</td>\n",
       "      <td>Mono</td>\n",
       "      <td>Sharp</td>\n",
       "      <td>ET Solar Industry</td>\n",
       "      <td>SolarWorld</td>\n",
       "    </tr>\n",
       "    <tr>\n",
       "      <th>103089</th>\n",
       "      <td>Mono</td>\n",
       "      <td>Poly</td>\n",
       "      <td>Poly</td>\n",
       "      <td>Axitec</td>\n",
       "      <td>Suntech Power</td>\n",
       "      <td>Suntech Power</td>\n",
       "    </tr>\n",
       "    <tr>\n",
       "      <th>108415</th>\n",
       "      <td>Mono</td>\n",
       "      <td>Mono</td>\n",
       "      <td>Mono</td>\n",
       "      <td>Hanwha Q-Cells</td>\n",
       "      <td>Hanwha Q-Cells</td>\n",
       "      <td>Hanwha Q-Cells</td>\n",
       "    </tr>\n",
       "    <tr>\n",
       "      <th>...</th>\n",
       "      <td>...</td>\n",
       "      <td>...</td>\n",
       "      <td>...</td>\n",
       "      <td>...</td>\n",
       "      <td>...</td>\n",
       "      <td>...</td>\n",
       "    </tr>\n",
       "    <tr>\n",
       "      <th>1487956</th>\n",
       "      <td>Mono</td>\n",
       "      <td>Mono</td>\n",
       "      <td>Mono</td>\n",
       "      <td>LG Electronics</td>\n",
       "      <td>LG Electronics</td>\n",
       "      <td>LG Electronics</td>\n",
       "    </tr>\n",
       "    <tr>\n",
       "      <th>1489656</th>\n",
       "      <td>Poly</td>\n",
       "      <td>Poly</td>\n",
       "      <td>Poly</td>\n",
       "      <td>ET Solar Industry</td>\n",
       "      <td>ET Solar Industry</td>\n",
       "      <td>ET Solar Industry</td>\n",
       "    </tr>\n",
       "    <tr>\n",
       "      <th>1492547</th>\n",
       "      <td>Poly</td>\n",
       "      <td>Poly</td>\n",
       "      <td>Poly</td>\n",
       "      <td>Renesola America</td>\n",
       "      <td>Renesola America</td>\n",
       "      <td>Renesola America</td>\n",
       "    </tr>\n",
       "    <tr>\n",
       "      <th>1493364</th>\n",
       "      <td>Poly</td>\n",
       "      <td>Poly</td>\n",
       "      <td>Poly</td>\n",
       "      <td>Changzhou Trina Solar Energy</td>\n",
       "      <td>Changzhou Trina Solar Energy</td>\n",
       "      <td>Changzhou Trina Solar Energy</td>\n",
       "    </tr>\n",
       "    <tr>\n",
       "      <th>1493916</th>\n",
       "      <td>Mono</td>\n",
       "      <td>Mono</td>\n",
       "      <td>Mono</td>\n",
       "      <td>Mission Solar Energy</td>\n",
       "      <td>Mission Solar Energy</td>\n",
       "      <td>Mission Solar Energy</td>\n",
       "    </tr>\n",
       "  </tbody>\n",
       "</table>\n",
       "<p>14720 rows × 6 columns</p>\n",
       "</div>"
      ],
      "text/plain": [
       "        Module Technology #1 Module Technology #2 Module Technology #3  \\\n",
       "100439                  Mono                 Mono                 Mono   \n",
       "100855                  Poly                 Poly                 Poly   \n",
       "101126              multiple                 Poly                 Mono   \n",
       "103089                  Mono                 Poly                 Poly   \n",
       "108415                  Mono                 Mono                 Mono   \n",
       "...                      ...                  ...                  ...   \n",
       "1487956                 Mono                 Mono                 Mono   \n",
       "1489656                 Poly                 Poly                 Poly   \n",
       "1492547                 Poly                 Poly                 Poly   \n",
       "1493364                 Poly                 Poly                 Poly   \n",
       "1493916                 Mono                 Mono                 Mono   \n",
       "\n",
       "               Module Manufacturer #1        Module Manufacturer #2  \\\n",
       "100439                 LG Electronics                LG Electronics   \n",
       "100855                          Sharp                         Sharp   \n",
       "101126                          Sharp             ET Solar Industry   \n",
       "103089                         Axitec                 Suntech Power   \n",
       "108415                 Hanwha Q-Cells                Hanwha Q-Cells   \n",
       "...                               ...                           ...   \n",
       "1487956                LG Electronics                LG Electronics   \n",
       "1489656             ET Solar Industry             ET Solar Industry   \n",
       "1492547              Renesola America              Renesola America   \n",
       "1493364  Changzhou Trina Solar Energy  Changzhou Trina Solar Energy   \n",
       "1493916          Mission Solar Energy          Mission Solar Energy   \n",
       "\n",
       "               Module Manufacturer #3  \n",
       "100439                 LG Electronics  \n",
       "100855                          Sharp  \n",
       "101126                     SolarWorld  \n",
       "103089                  Suntech Power  \n",
       "108415                 Hanwha Q-Cells  \n",
       "...                               ...  \n",
       "1487956                LG Electronics  \n",
       "1489656             ET Solar Industry  \n",
       "1492547              Renesola America  \n",
       "1493364  Changzhou Trina Solar Energy  \n",
       "1493916          Mission Solar Energy  \n",
       "\n",
       "[14720 rows x 6 columns]"
      ]
     },
     "execution_count": 40,
     "metadata": {},
     "output_type": "execute_result"
    }
   ],
   "source": [
    "df_rep[(df_rep['Module Technology #1'].notna())&(df_rep['Module Technology #2'].notna())&(df_rep['Module Technology #3'].notna())][['Module Technology #1','Module Technology #2','Module Technology #3', 'Module Manufacturer #1', 'Module Manufacturer #2', 'Module Manufacturer #3']]"
   ]
  },
  {
   "cell_type": "code",
   "execution_count": 41,
   "metadata": {},
   "outputs": [
    {
     "data": {
      "text/html": [
       "<div>\n",
       "<style scoped>\n",
       "    .dataframe tbody tr th:only-of-type {\n",
       "        vertical-align: middle;\n",
       "    }\n",
       "\n",
       "    .dataframe tbody tr th {\n",
       "        vertical-align: top;\n",
       "    }\n",
       "\n",
       "    .dataframe thead th {\n",
       "        text-align: right;\n",
       "    }\n",
       "</style>\n",
       "<table border=\"1\" class=\"dataframe\">\n",
       "  <thead>\n",
       "    <tr style=\"text-align: right;\">\n",
       "      <th></th>\n",
       "      <th>System Size</th>\n",
       "      <th>Total Installed Price</th>\n",
       "      <th>Sales Tax Cost</th>\n",
       "      <th>Rebate or Grant</th>\n",
       "      <th>Performance-Based Incentive (Annual Payment)</th>\n",
       "      <th>Performance-Based Incentives (Duration)</th>\n",
       "      <th>Feed-in Tariff (Annual Payment)</th>\n",
       "      <th>Feed-in Tariff (Duration)</th>\n",
       "      <th>New Construction</th>\n",
       "      <th>Tracking</th>\n",
       "      <th>...</th>\n",
       "      <th>Module Efficiency #3</th>\n",
       "      <th>Microinverter #1</th>\n",
       "      <th>Microinverter #2</th>\n",
       "      <th>Microinverter #3</th>\n",
       "      <th>System Inverter Capacity</th>\n",
       "      <th>DC Optimizer</th>\n",
       "      <th>Inverter Loading Ratio</th>\n",
       "      <th>cost_per_KW</th>\n",
       "      <th>cost_per_KW_with_rebate</th>\n",
       "      <th>year</th>\n",
       "    </tr>\n",
       "  </thead>\n",
       "  <tbody>\n",
       "    <tr>\n",
       "      <th>count</th>\n",
       "      <td>1.187660e+06</td>\n",
       "      <td>1.187660e+06</td>\n",
       "      <td>1.187465e+06</td>\n",
       "      <td>1.187660e+06</td>\n",
       "      <td>1.180019e+06</td>\n",
       "      <td>1.180019e+06</td>\n",
       "      <td>1187659.0</td>\n",
       "      <td>1.187659e+06</td>\n",
       "      <td>728655.000000</td>\n",
       "      <td>832036.000000</td>\n",
       "      <td>...</td>\n",
       "      <td>13334.000000</td>\n",
       "      <td>951903.000000</td>\n",
       "      <td>38765.000000</td>\n",
       "      <td>4027.000000</td>\n",
       "      <td>903127.000000</td>\n",
       "      <td>1.179615e+06</td>\n",
       "      <td>902013.000000</td>\n",
       "      <td>1.187660e+06</td>\n",
       "      <td>1.187660e+06</td>\n",
       "      <td>1.187660e+06</td>\n",
       "    </tr>\n",
       "    <tr>\n",
       "      <th>mean</th>\n",
       "      <td>1.120960e+01</td>\n",
       "      <td>5.056441e+04</td>\n",
       "      <td>8.895764e+02</td>\n",
       "      <td>3.409592e+03</td>\n",
       "      <td>5.156346e+01</td>\n",
       "      <td>3.069273e-02</td>\n",
       "      <td>0.0</td>\n",
       "      <td>4.327842e-03</td>\n",
       "      <td>0.067394</td>\n",
       "      <td>0.006501</td>\n",
       "      <td>...</td>\n",
       "      <td>0.167784</td>\n",
       "      <td>0.287629</td>\n",
       "      <td>0.144254</td>\n",
       "      <td>0.366029</td>\n",
       "      <td>9.686800</td>\n",
       "      <td>2.356421e-01</td>\n",
       "      <td>1.216439</td>\n",
       "      <td>5.380544e+03</td>\n",
       "      <td>4.969754e+03</td>\n",
       "      <td>2.014846e+03</td>\n",
       "    </tr>\n",
       "    <tr>\n",
       "      <th>std</th>\n",
       "      <td>7.660892e+01</td>\n",
       "      <td>4.448807e+06</td>\n",
       "      <td>7.978943e+03</td>\n",
       "      <td>3.111240e+04</td>\n",
       "      <td>3.549608e+03</td>\n",
       "      <td>6.884999e-01</td>\n",
       "      <td>0.0</td>\n",
       "      <td>2.941737e-01</td>\n",
       "      <td>0.250703</td>\n",
       "      <td>0.080366</td>\n",
       "      <td>...</td>\n",
       "      <td>0.017478</td>\n",
       "      <td>0.452658</td>\n",
       "      <td>0.351351</td>\n",
       "      <td>0.481777</td>\n",
       "      <td>90.247062</td>\n",
       "      <td>4.243997e-01</td>\n",
       "      <td>10.479401</td>\n",
       "      <td>6.183801e+05</td>\n",
       "      <td>6.182852e+05</td>\n",
       "      <td>3.000745e+00</td>\n",
       "    </tr>\n",
       "    <tr>\n",
       "      <th>min</th>\n",
       "      <td>3.150000e-03</td>\n",
       "      <td>1.000000e-02</td>\n",
       "      <td>0.000000e+00</td>\n",
       "      <td>0.000000e+00</td>\n",
       "      <td>0.000000e+00</td>\n",
       "      <td>0.000000e+00</td>\n",
       "      <td>0.0</td>\n",
       "      <td>0.000000e+00</td>\n",
       "      <td>0.000000</td>\n",
       "      <td>0.000000</td>\n",
       "      <td>...</td>\n",
       "      <td>-0.000018</td>\n",
       "      <td>0.000000</td>\n",
       "      <td>0.000000</td>\n",
       "      <td>0.000000</td>\n",
       "      <td>0.001000</td>\n",
       "      <td>0.000000e+00</td>\n",
       "      <td>0.000143</td>\n",
       "      <td>1.667017e-06</td>\n",
       "      <td>-4.877622e+04</td>\n",
       "      <td>1.998000e+03</td>\n",
       "    </tr>\n",
       "    <tr>\n",
       "      <th>25%</th>\n",
       "      <td>4.216000e+00</td>\n",
       "      <td>1.827000e+04</td>\n",
       "      <td>0.000000e+00</td>\n",
       "      <td>0.000000e+00</td>\n",
       "      <td>0.000000e+00</td>\n",
       "      <td>0.000000e+00</td>\n",
       "      <td>0.0</td>\n",
       "      <td>0.000000e+00</td>\n",
       "      <td>0.000000</td>\n",
       "      <td>0.000000</td>\n",
       "      <td>...</td>\n",
       "      <td>0.157576</td>\n",
       "      <td>0.000000</td>\n",
       "      <td>0.000000</td>\n",
       "      <td>0.000000</td>\n",
       "      <td>3.800000</td>\n",
       "      <td>0.000000e+00</td>\n",
       "      <td>1.033254</td>\n",
       "      <td>3.605324e+03</td>\n",
       "      <td>3.354770e+03</td>\n",
       "      <td>2.013000e+03</td>\n",
       "    </tr>\n",
       "    <tr>\n",
       "      <th>50%</th>\n",
       "      <td>6.000000e+00</td>\n",
       "      <td>2.643300e+04</td>\n",
       "      <td>3.601465e+02</td>\n",
       "      <td>0.000000e+00</td>\n",
       "      <td>0.000000e+00</td>\n",
       "      <td>0.000000e+00</td>\n",
       "      <td>0.0</td>\n",
       "      <td>0.000000e+00</td>\n",
       "      <td>0.000000</td>\n",
       "      <td>0.000000</td>\n",
       "      <td>...</td>\n",
       "      <td>0.163522</td>\n",
       "      <td>0.000000</td>\n",
       "      <td>0.000000</td>\n",
       "      <td>0.000000</td>\n",
       "      <td>5.052000</td>\n",
       "      <td>0.000000e+00</td>\n",
       "      <td>1.131429</td>\n",
       "      <td>4.489829e+03</td>\n",
       "      <td>4.274195e+03</td>\n",
       "      <td>2.016000e+03</td>\n",
       "    </tr>\n",
       "    <tr>\n",
       "      <th>75%</th>\n",
       "      <td>8.410000e+00</td>\n",
       "      <td>3.744000e+04</td>\n",
       "      <td>6.424313e+02</td>\n",
       "      <td>2.042000e+03</td>\n",
       "      <td>0.000000e+00</td>\n",
       "      <td>0.000000e+00</td>\n",
       "      <td>0.0</td>\n",
       "      <td>0.000000e+00</td>\n",
       "      <td>0.000000</td>\n",
       "      <td>0.000000</td>\n",
       "      <td>...</td>\n",
       "      <td>0.174847</td>\n",
       "      <td>1.000000</td>\n",
       "      <td>0.000000</td>\n",
       "      <td>1.000000</td>\n",
       "      <td>7.600000</td>\n",
       "      <td>0.000000e+00</td>\n",
       "      <td>1.210526</td>\n",
       "      <td>5.210000e+03</td>\n",
       "      <td>5.117000e+03</td>\n",
       "      <td>2.017000e+03</td>\n",
       "    </tr>\n",
       "    <tr>\n",
       "      <th>max</th>\n",
       "      <td>1.000000e+04</td>\n",
       "      <td>4.806585e+09</td>\n",
       "      <td>1.735160e+06</td>\n",
       "      <td>5.500000e+06</td>\n",
       "      <td>1.630822e+06</td>\n",
       "      <td>2.000000e+01</td>\n",
       "      <td>0.0</td>\n",
       "      <td>2.000000e+01</td>\n",
       "      <td>1.000000</td>\n",
       "      <td>1.000000</td>\n",
       "      <td>...</td>\n",
       "      <td>0.220859</td>\n",
       "      <td>1.000000</td>\n",
       "      <td>1.000000</td>\n",
       "      <td>1.000000</td>\n",
       "      <td>55440.000000</td>\n",
       "      <td>1.000000e+00</td>\n",
       "      <td>8060.000000</td>\n",
       "      <td>6.717799e+08</td>\n",
       "      <td>6.717799e+08</td>\n",
       "      <td>2.018000e+03</td>\n",
       "    </tr>\n",
       "  </tbody>\n",
       "</table>\n",
       "<p>8 rows × 36 columns</p>\n",
       "</div>"
      ],
      "text/plain": [
       "        System Size  Total Installed Price  Sales Tax Cost  Rebate or Grant  \\\n",
       "count  1.187660e+06           1.187660e+06    1.187465e+06     1.187660e+06   \n",
       "mean   1.120960e+01           5.056441e+04    8.895764e+02     3.409592e+03   \n",
       "std    7.660892e+01           4.448807e+06    7.978943e+03     3.111240e+04   \n",
       "min    3.150000e-03           1.000000e-02    0.000000e+00     0.000000e+00   \n",
       "25%    4.216000e+00           1.827000e+04    0.000000e+00     0.000000e+00   \n",
       "50%    6.000000e+00           2.643300e+04    3.601465e+02     0.000000e+00   \n",
       "75%    8.410000e+00           3.744000e+04    6.424313e+02     2.042000e+03   \n",
       "max    1.000000e+04           4.806585e+09    1.735160e+06     5.500000e+06   \n",
       "\n",
       "       Performance-Based Incentive (Annual Payment)  \\\n",
       "count                                  1.180019e+06   \n",
       "mean                                   5.156346e+01   \n",
       "std                                    3.549608e+03   \n",
       "min                                    0.000000e+00   \n",
       "25%                                    0.000000e+00   \n",
       "50%                                    0.000000e+00   \n",
       "75%                                    0.000000e+00   \n",
       "max                                    1.630822e+06   \n",
       "\n",
       "       Performance-Based Incentives (Duration)  \\\n",
       "count                             1.180019e+06   \n",
       "mean                              3.069273e-02   \n",
       "std                               6.884999e-01   \n",
       "min                               0.000000e+00   \n",
       "25%                               0.000000e+00   \n",
       "50%                               0.000000e+00   \n",
       "75%                               0.000000e+00   \n",
       "max                               2.000000e+01   \n",
       "\n",
       "       Feed-in Tariff (Annual Payment)  Feed-in Tariff (Duration)  \\\n",
       "count                        1187659.0               1.187659e+06   \n",
       "mean                               0.0               4.327842e-03   \n",
       "std                                0.0               2.941737e-01   \n",
       "min                                0.0               0.000000e+00   \n",
       "25%                                0.0               0.000000e+00   \n",
       "50%                                0.0               0.000000e+00   \n",
       "75%                                0.0               0.000000e+00   \n",
       "max                                0.0               2.000000e+01   \n",
       "\n",
       "       New Construction       Tracking  ...  Module Efficiency #3  \\\n",
       "count     728655.000000  832036.000000  ...          13334.000000   \n",
       "mean           0.067394       0.006501  ...              0.167784   \n",
       "std            0.250703       0.080366  ...              0.017478   \n",
       "min            0.000000       0.000000  ...             -0.000018   \n",
       "25%            0.000000       0.000000  ...              0.157576   \n",
       "50%            0.000000       0.000000  ...              0.163522   \n",
       "75%            0.000000       0.000000  ...              0.174847   \n",
       "max            1.000000       1.000000  ...              0.220859   \n",
       "\n",
       "       Microinverter #1  Microinverter #2  Microinverter #3  \\\n",
       "count     951903.000000      38765.000000       4027.000000   \n",
       "mean           0.287629          0.144254          0.366029   \n",
       "std            0.452658          0.351351          0.481777   \n",
       "min            0.000000          0.000000          0.000000   \n",
       "25%            0.000000          0.000000          0.000000   \n",
       "50%            0.000000          0.000000          0.000000   \n",
       "75%            1.000000          0.000000          1.000000   \n",
       "max            1.000000          1.000000          1.000000   \n",
       "\n",
       "       System Inverter Capacity  DC Optimizer  Inverter Loading Ratio  \\\n",
       "count             903127.000000  1.179615e+06           902013.000000   \n",
       "mean                   9.686800  2.356421e-01                1.216439   \n",
       "std                   90.247062  4.243997e-01               10.479401   \n",
       "min                    0.001000  0.000000e+00                0.000143   \n",
       "25%                    3.800000  0.000000e+00                1.033254   \n",
       "50%                    5.052000  0.000000e+00                1.131429   \n",
       "75%                    7.600000  0.000000e+00                1.210526   \n",
       "max                55440.000000  1.000000e+00             8060.000000   \n",
       "\n",
       "        cost_per_KW  cost_per_KW_with_rebate          year  \n",
       "count  1.187660e+06             1.187660e+06  1.187660e+06  \n",
       "mean   5.380544e+03             4.969754e+03  2.014846e+03  \n",
       "std    6.183801e+05             6.182852e+05  3.000745e+00  \n",
       "min    1.667017e-06            -4.877622e+04  1.998000e+03  \n",
       "25%    3.605324e+03             3.354770e+03  2.013000e+03  \n",
       "50%    4.489829e+03             4.274195e+03  2.016000e+03  \n",
       "75%    5.210000e+03             5.117000e+03  2.017000e+03  \n",
       "max    6.717799e+08             6.717799e+08  2.018000e+03  \n",
       "\n",
       "[8 rows x 36 columns]"
      ]
     },
     "execution_count": 41,
     "metadata": {},
     "output_type": "execute_result"
    }
   ],
   "source": [
    "df_rep.describe()"
   ]
  },
  {
   "cell_type": "code",
   "execution_count": 26,
   "metadata": {},
   "outputs": [
    {
     "data": {
      "image/png": "[encoded data removed]",
      "text/plain": [
       "<Figure size 1440x720 with 1 Axes>"
      ]
     },
     "metadata": {
      "needs_background": "light"
     },
     "output_type": "display_data"
    }
   ],
   "source": [
    "#Review amount of installs by State for all time\n",
    "fig=plt.figure(figsize=(20,10))\n",
    "plt.tight_layout()\n",
    "ax = sns.countplot(x='State', data=df, order = df['State'].value_counts().index)\n",
    "plt.title('Count of installs by state', fontsize=25)\n",
    "plt.xlabel('States', fontsize=15)\n",
    "plt.ylabel('Count', fontsize=15)\n",
    "plt.show()\n",
    "\n",
    "ax.get_figure().savefig('number_of_install_by_state.png',dpi=600)"
   ]
  },
  {
   "cell_type": "code",
   "execution_count": 27,
   "metadata": {},
   "outputs": [],
   "source": [
    "# function to plot for all segment data by year\n",
    "def segment_year(df, state_name='', *args):\n",
    "    segment_lst=['RES','COM','GOV','NON-PROFIT','SCHOOL','NON-RES']\n",
    "    fig,ax=plt.subplots(figsize=(20,10))\n",
    "    for i, seg in enumerate(segment_lst):  \n",
    "        bool_arr=df['Customer Segment']==seg\n",
    "        year_grouped=df[bool_arr].groupby(['year']).mean()\n",
    "        \n",
    "        ax.scatter(year_grouped.index,year_grouped['cost_per_KW'])\n",
    "        ax.plot(year_grouped.index,year_grouped['cost_per_KW'], label=seg)\n",
    "        ax.set_title('{} cost per size change by segment '.format(state_name), fontsize=25)\n",
    "        ax.set_xticks(range(1998,2019))\n",
    "        ax.set_xlabel('Year',fontsize=15)\n",
    "        ax.set_ylabel('Cost per KW',fontsize=15)\n",
    "        ax.legend()"
   ]
  },
  {
   "cell_type": "markdown",
   "metadata": {},
   "source": [
    "Plot below demostrates that mean cost per KW does is not different for most of the segments. Also 94.4% of the segments are Resedential, so futher analysis is not going differentiate between segements."
   ]
  },
  {
   "cell_type": "code",
   "execution_count": 28,
   "metadata": {},
   "outputs": [
    {
     "data": {
      "text/plain": [
       "RES           0.944009\n",
       "COM           0.961766\n",
       "NON-RES       0.972001\n",
       "GOV           0.975557\n",
       "NON-PROFIT    0.978000\n",
       "SCHOOL        0.979582\n",
       "Name: Customer Segment, dtype: float64"
      ]
     },
     "execution_count": 28,
     "metadata": {},
     "output_type": "execute_result"
    }
   ],
   "source": [
    "#cumulative percentage in segments\n",
    "df_rep['Customer Segment'].value_counts().cumsum()/1187660"
   ]
  },
  {
   "cell_type": "code",
   "execution_count": 31,
   "metadata": {},
   "outputs": [
    {
     "data": {
      "image/png": "[encoded data removed]",
      "text/plain": [
       "<Figure size 1440x720 with 1 Axes>"
      ]
     },
     "metadata": {
      "needs_background": "light"
     },
     "output_type": "display_data"
    }
   ],
   "source": [
    "segment_year(df_rep)\n",
    "plt.savefig('cost per size change by segment')"
   ]
  },
  {
   "cell_type": "code",
   "execution_count": 44,
   "metadata": {},
   "outputs": [],
   "source": [
    "df_2017_2018=df_rep[df_rep['year']>=2017]"
   ]
  },
  {
   "cell_type": "code",
   "execution_count": 45,
   "metadata": {},
   "outputs": [],
   "source": [
    "grouped_by_st=df_2017_2018.groupby(['State']).mean()"
   ]
  },
  {
   "cell_type": "code",
   "execution_count": 46,
   "metadata": {},
   "outputs": [],
   "source": [
    "df_2017_2018_filtered=df_2017_2018[['State','cost_per_KW_with_rebate','Module Technology #1','Module Efficiency #1','year','cost_per_KW']]\n",
    "df_2017_2018_filtered.columns\n",
    "test=df_2017_2018_filtered.copy()\n",
    "test['log_cost_per_kw']=test['cost_per_KW_with_rebate'].apply(np.log)\n",
    "test['Module_Technology']=test['Module Technology #1']\n",
    "test['Module_Efficiency']=test['Module Efficiency #1']"
   ]
  },
  {
   "cell_type": "code",
   "execution_count": 421,
   "metadata": {},
   "outputs": [
    {
     "data": {
      "text/plain": [
       "9734              Poly\n",
       "45432             Poly\n",
       "45470             Mono\n",
       "45523             Poly\n",
       "45560             Poly\n",
       "              ...     \n",
       "1543295    crystalline\n",
       "1543296           Mono\n",
       "1543297           Mono\n",
       "1543298           Mono\n",
       "1543299    crystalline\n",
       "Name: Module_Technology, Length: 396390, dtype: object"
      ]
     },
     "execution_count": 421,
     "metadata": {},
     "output_type": "execute_result"
    }
   ],
   "source": [
    "test['Module_Technology']"
   ]
  },
  {
   "cell_type": "code",
   "execution_count": 47,
   "metadata": {},
   "outputs": [],
   "source": [
    "test=test[test['log_cost_per_kw'].notna()]"
   ]
  },
  {
   "cell_type": "code",
   "execution_count": 424,
   "metadata": {},
   "outputs": [
    {
     "data": {
      "text/plain": [
       "(396355, 9)"
      ]
     },
     "execution_count": 424,
     "metadata": {},
     "output_type": "execute_result"
    }
   ],
   "source": [
    "test.shape"
   ]
  },
  {
   "cell_type": "code",
   "execution_count": 49,
   "metadata": {},
   "outputs": [],
   "source": [
    "import statsmodels.api as sm\n",
    "import statsmodels.formula.api as smf"
   ]
  },
  {
   "cell_type": "code",
   "execution_count": 50,
   "metadata": {},
   "outputs": [
    {
     "name": "stdout",
     "output_type": "stream",
     "text": [
      "                               OLS Regression Results                              \n",
      "===================================================================================\n",
      "Dep. Variable:     cost_per_KW_with_rebate   R-squared:                       0.000\n",
      "Model:                                 OLS   Adj. R-squared:                  0.000\n",
      "Method:                      Least Squares   F-statistic:                     1.074\n",
      "Date:                     Fri, 30 Oct 2020   Prob (F-statistic):              0.374\n",
      "Time:                             14:39:28   Log-Likelihood:            -5.0436e+06\n",
      "No. Observations:                   396390   AIC:                         1.009e+07\n",
      "Df Residuals:                       396373   BIC:                         1.009e+07\n",
      "Df Model:                               16                                         \n",
      "Covariance Type:                 nonrobust                                         \n",
      "===============================================================================\n",
      "                  coef    std err          t      P>|t|      [0.025      0.975]\n",
      "-------------------------------------------------------------------------------\n",
      "Intercept    5356.2246    379.621     14.109      0.000    4612.179    6100.270\n",
      "State[T.CA] -1501.4315    413.034     -3.635      0.000   -2310.966    -691.897\n",
      "State[T.CO] -1602.9760    832.379     -1.926      0.054   -3234.414      28.462\n",
      "State[T.CT] -1914.4815    943.208     -2.030      0.042   -3763.140     -65.823\n",
      "State[T.DE] -1946.9012   5278.280     -0.369      0.712   -1.23e+04    8398.369\n",
      "State[T.FL] -2073.3242   2673.331     -0.776      0.438   -7312.973    3166.325\n",
      "State[T.MA] -1489.8840    657.116     -2.267      0.023   -2777.812    -201.956\n",
      "State[T.MD] -1595.6902   1279.793     -1.247      0.212   -4104.046     912.666\n",
      "State[T.MN] -1515.0533   2024.552     -0.748      0.454   -5483.115    2453.008\n",
      "State[T.NH] -2197.8378   1867.476     -1.177      0.239   -5858.035    1462.359\n",
      "State[T.NY] -1661.6851    644.899     -2.577      0.010   -2925.668    -397.702\n",
      "State[T.OR] -1421.3879   2770.251     -0.513      0.608   -6850.997    4008.222\n",
      "State[T.RI] -2729.6700   4162.011     -0.656      0.512   -1.09e+04    5427.747\n",
      "State[T.TX] -2401.5529    951.287     -2.525      0.012   -4266.047    -537.059\n",
      "State[T.UT]  -879.9866   1003.922     -0.877      0.381   -2847.643    1087.670\n",
      "State[T.WA] -1747.7380   1185.997     -1.474      0.141   -4072.256     576.780\n",
      "State[T.WI] -2742.8732   2161.371     -1.269      0.204   -6979.095    1493.348\n",
      "===============================================================================\n",
      "Omnibus:                  2432512.151   Durbin-Watson:                    2.000\n",
      "Prob(Omnibus):                  0.000   Jarque-Bera (JB):   791218557899260.125\n",
      "Skew:                         462.015   Prob(JB):                          0.00\n",
      "Kurtosis:                  218874.210   Cond. No.                          49.7\n",
      "===============================================================================\n",
      "\n",
      "Warnings:\n",
      "[1] Standard Errors assume that the covariance matrix of the errors is correctly specified.\n"
     ]
    }
   ],
   "source": [
    "mod = smf.ols(formula='cost_per_KW_with_rebate~State', data=df_2017_2018_filtered)\n",
    "res = mod.fit()\n",
    "print(res.summary())"
   ]
  },
  {
   "cell_type": "code",
   "execution_count": 33,
   "metadata": {},
   "outputs": [
    {
     "data": {
      "image/png": "[encoded data removed]",
      "text/plain": [
       "<Figure size 1440x720 with 1 Axes>"
      ]
     },
     "metadata": {
      "needs_background": "light"
     },
     "output_type": "display_data"
    }
   ],
   "source": [
    "#Review amount of installs by technology type for alltime\n",
    "plt.figure(figsize=(20,10))\n",
    "plt.tight_layout()\n",
    "ax = sns.countplot(x='Module Technology #1', data=df_rep)\n",
    "plt.title('Count of installs by Module Technology', fontsize=25)\n",
    "plt.xlabel('Module Technology', fontsize=15)\n",
    "plt.ylabel('Count', fontsize=15)\n",
    "plt.show()\n",
    "\n",
    "ax.get_figure().savefig('number_Module_Technology_1.png',dpi=600)"
   ]
  },
  {
   "cell_type": "code",
   "execution_count": 432,
   "metadata": {
    "collapsed": true
   },
   "outputs": [
    {
     "data": {
      "image/png": "[encoded data removed]",
      "text/plain": [
       "<Figure size 1440x720 with 1 Axes>"
      ]
     },
     "metadata": {
      "needs_background": "light"
     },
     "output_type": "display_data"
    }
   ],
   "source": [
    "#Review amount of installs by technology type for alltime\n",
    "plt.figure(figsize=(20,10))\n",
    "plt.tight_layout()\n",
    "ax = sns.countplot(x='Module Technology #2', data=df_rep)\n",
    "plt.title('Count of installs by Module Technology', fontsize=20)\n",
    "plt.show()"
   ]
  },
  {
   "cell_type": "code",
   "execution_count": 431,
   "metadata": {
    "collapsed": true
   },
   "outputs": [
    {
     "data": {
      "image/png": "[encoded data removed]",
      "text/plain": [
       "<Figure size 1440x720 with 1 Axes>"
      ]
     },
     "metadata": {
      "needs_background": "light"
     },
     "output_type": "display_data"
    }
   ],
   "source": [
    "#Review amount of installs by technology type for alltime\n",
    "plt.figure(figsize=(20,10))\n",
    "plt.tight_layout()\n",
    "ax = sns.countplot(x='Module Technology #3', data=df_rep)\n",
    "plt.title('Count of installs by Module Technology', fontsize=20)\n",
    "plt.show()"
   ]
  },
  {
   "cell_type": "markdown",
   "metadata": {},
   "source": [
    "Mon - Monocrystalline Silicon Solar PV\n",
    "\n",
    "Poly - Polycrystalline Silicon Solar PV\n",
    "\n",
    "Thin Film - Thin Film Solar PV\n",
    "\n",
    "CdTe - Thin Film Solar Cadmium telluride photovoltaics\n",
    "\n",
    "CIGS - copper indium gallium diselenide\n",
    "\n",
    "a-Si - amorphous thin-film silicon\n",
    "      \n",
    "CIS- Copper, Indium and Selenium"
   ]
  },
  {
   "cell_type": "code",
   "execution_count": 477,
   "metadata": {},
   "outputs": [],
   "source": [
    "test_CIS=test[test['Module_Technology']=='CIS']['cost_per_KW_with_rebate']\n",
    "test_CdTe=test[test['Module_Technology']=='CdTe']['cost_per_KW_with_rebate']\n",
    "test_Mono=test[test['Module_Technology']=='Mono']['cost_per_KW_with_rebate']\n",
    "test_MonoSci=test[test['Module_Technology']=='Mono + a-Si']['cost_per_KW_with_rebate']\n",
    "test_Poly=test[test['Module_Technology']=='Poly']['cost_per_KW_with_rebate']\n",
    "test_Thin_Film=test[test['Module_Technology']=='Thin Film']['cost_per_KW_with_rebate']\n",
    "test_crystalline=test[test['Module_Technology']=='crystalline']['cost_per_KW_with_rebate']\n",
    "test_multiple=test[test['Module_Technology']=='multiple']['cost_per_KW_with_rebate']"
   ]
  },
  {
   "cell_type": "markdown",
   "metadata": {},
   "source": [
    "Distrubutions are the same-Null Hypothesis"
   ]
  },
  {
   "cell_type": "markdown",
   "metadata": {},
   "source": [
    "Kruskal–Wallis test shows that null hypothesis can be rejected, as p-value is extremely low."
   ]
  },
  {
   "cell_type": "code",
   "execution_count": 261,
   "metadata": {},
   "outputs": [
    {
     "data": {
      "text/plain": [
       "KruskalResult(statistic=3321.649427627919, pvalue=0.0)"
      ]
     },
     "execution_count": 261,
     "metadata": {},
     "output_type": "execute_result"
    }
   ],
   "source": [
    "stats.kruskal(test_CIS,test_CdTe,test_Mono,test_MonoSci,test_Poly,test_Thin_Film,test_crystalline,test_multiple)"
   ]
  },
  {
   "cell_type": "code",
   "execution_count": 275,
   "metadata": {},
   "outputs": [
    {
     "data": {
      "text/plain": [
       "KruskalResult(statistic=2573.3884572930133, pvalue=0.0)"
      ]
     },
     "execution_count": 275,
     "metadata": {},
     "output_type": "execute_result"
    }
   ],
   "source": [
    "stats.kruskal(test_Mono,test_Poly)"
   ]
  },
  {
   "cell_type": "code",
   "execution_count": 274,
   "metadata": {},
   "outputs": [
    {
     "data": {
      "text/plain": [
       "MannwhitneyuResult(statistic=8090808178.5, pvalue=0.0)"
      ]
     },
     "execution_count": 274,
     "metadata": {},
     "output_type": "execute_result"
    }
   ],
   "source": [
    "stats.mannwhitneyu(test_Mono,test_Poly)"
   ]
  },
  {
   "cell_type": "code",
   "execution_count": 389,
   "metadata": {},
   "outputs": [
    {
     "data": {
      "text/plain": [
       "Index(['Module_Technology', 'log_cost_per_kw', 'cost_per_KW_with_rebate',\n",
       "       'year', 'cost_per_KW'],\n",
       "      dtype='object')"
      ]
     },
     "execution_count": 389,
     "metadata": {},
     "output_type": "execute_result"
    }
   ],
   "source": [
    "tech_vs_cost=test[['Module_Technology','log_cost_per_kw','cost_per_KW_with_rebate','year','cost_per_KW']]\n",
    "tech_vs_cost.columns"
   ]
  },
  {
   "cell_type": "code",
   "execution_count": 390,
   "metadata": {},
   "outputs": [
    {
     "data": {
      "image/png": "[encoded data removed]",
      "text/plain": [
       "<Figure size 1440x720 with 1 Axes>"
      ]
     },
     "metadata": {
      "needs_background": "light"
     },
     "output_type": "display_data"
    }
   ],
   "source": [
    "fig,ax=plt.subplots(figsize=(20,10))\n",
    "tech_vs_cost[['log_cost_per_kw','Module_Technology']].boxplot(by='Module_Technology',ax=ax)\n",
    "plt.show()"
   ]
  },
  {
   "cell_type": "code",
   "execution_count": 35,
   "metadata": {},
   "outputs": [
    {
     "ename": "NameError",
     "evalue": "name 'tech_vs_cost' is not defined",
     "output_type": "error",
     "traceback": [
      "\u001b[0;31m---------------------------------------------------------------------------\u001b[0m",
      "\u001b[0;31mNameError\u001b[0m                                 Traceback (most recent call last)",
      "\u001b[0;32m<ipython-input-35-f70a583d8f7d>\u001b[0m in \u001b[0;36m<module>\u001b[0;34m\u001b[0m\n\u001b[1;32m      3\u001b[0m \u001b[0;32mdef\u001b[0m \u001b[0mpercentile_25\u001b[0m\u001b[0;34m(\u001b[0m\u001b[0mx\u001b[0m\u001b[0;34m)\u001b[0m\u001b[0;34m:\u001b[0m\u001b[0;34m\u001b[0m\u001b[0;34m\u001b[0m\u001b[0m\n\u001b[1;32m      4\u001b[0m     \u001b[0;32mreturn\u001b[0m \u001b[0mnp\u001b[0m\u001b[0;34m.\u001b[0m\u001b[0mpercentile\u001b[0m\u001b[0;34m(\u001b[0m\u001b[0mx\u001b[0m\u001b[0;34m,\u001b[0m\u001b[0;36m25\u001b[0m\u001b[0;34m)\u001b[0m\u001b[0;34m\u001b[0m\u001b[0;34m\u001b[0m\u001b[0m\n\u001b[0;32m----> 5\u001b[0;31m \u001b[0mtech_vs_cost\u001b[0m\u001b[0;34m[\u001b[0m\u001b[0mtech_vs_cost\u001b[0m\u001b[0;34m[\u001b[0m\u001b[0;34m'year'\u001b[0m\u001b[0;34m]\u001b[0m\u001b[0;34m]\u001b[0m\u001b[0;34m.\u001b[0m\u001b[0mgroupby\u001b[0m\u001b[0;34m(\u001b[0m\u001b[0;34m'Module_Technology'\u001b[0m\u001b[0;34m)\u001b[0m\u001b[0;34m[\u001b[0m\u001b[0;34m'cost_per_KW_with_rebate'\u001b[0m\u001b[0;34m]\u001b[0m\u001b[0;34m.\u001b[0m\u001b[0magg\u001b[0m\u001b[0;34m(\u001b[0m\u001b[0;34m[\u001b[0m\u001b[0mnp\u001b[0m\u001b[0;34m.\u001b[0m\u001b[0mmedian\u001b[0m\u001b[0;34m,\u001b[0m\u001b[0mpercentile_25\u001b[0m\u001b[0;34m,\u001b[0m \u001b[0mpercentile_75\u001b[0m\u001b[0;34m,\u001b[0m \u001b[0;34m'count'\u001b[0m\u001b[0;34m]\u001b[0m\u001b[0;34m)\u001b[0m\u001b[0;34m\u001b[0m\u001b[0;34m\u001b[0m\u001b[0m\n\u001b[0m",
      "\u001b[0;31mNameError\u001b[0m: name 'tech_vs_cost' is not defined"
     ]
    }
   ],
   "source": [
    "def percentile_75(x):\n",
    "    return np.percentile(x,75)\n",
    "def percentile_25(x):\n",
    "    return np.percentile(x,25)\n",
    "tech_vs_cost[tech_vs_cost['year']].groupby('Module_Technology')['cost_per_KW_with_rebate'].agg([np.median,percentile_25, percentile_75, 'count'])"
   ]
  },
  {
   "cell_type": "code",
   "execution_count": 472,
   "metadata": {},
   "outputs": [
    {
     "data": {
      "text/html": [
       "<div>\n",
       "<style scoped>\n",
       "    .dataframe tbody tr th:only-of-type {\n",
       "        vertical-align: middle;\n",
       "    }\n",
       "\n",
       "    .dataframe tbody tr th {\n",
       "        vertical-align: top;\n",
       "    }\n",
       "\n",
       "    .dataframe thead th {\n",
       "        text-align: right;\n",
       "    }\n",
       "</style>\n",
       "<table border=\"1\" class=\"dataframe\">\n",
       "  <thead>\n",
       "    <tr style=\"text-align: right;\">\n",
       "      <th></th>\n",
       "      <th>median</th>\n",
       "      <th>percentile_25</th>\n",
       "      <th>percentile_75</th>\n",
       "      <th>count</th>\n",
       "    </tr>\n",
       "    <tr>\n",
       "      <th>Module_Technology</th>\n",
       "      <th></th>\n",
       "      <th></th>\n",
       "      <th></th>\n",
       "      <th></th>\n",
       "    </tr>\n",
       "  </thead>\n",
       "  <tbody>\n",
       "    <tr>\n",
       "      <th>CIGS</th>\n",
       "      <td>3789.975</td>\n",
       "      <td>3035.5550</td>\n",
       "      <td>4190.135</td>\n",
       "      <td>76</td>\n",
       "    </tr>\n",
       "    <tr>\n",
       "      <th>CIS</th>\n",
       "      <td>3849.005</td>\n",
       "      <td>3432.3300</td>\n",
       "      <td>3997.225</td>\n",
       "      <td>36</td>\n",
       "    </tr>\n",
       "    <tr>\n",
       "      <th>CdTe</th>\n",
       "      <td>1830.000</td>\n",
       "      <td>1772.2450</td>\n",
       "      <td>5914.145</td>\n",
       "      <td>15</td>\n",
       "    </tr>\n",
       "    <tr>\n",
       "      <th>Mono</th>\n",
       "      <td>3877.150</td>\n",
       "      <td>3178.2350</td>\n",
       "      <td>4577.590</td>\n",
       "      <td>270635</td>\n",
       "    </tr>\n",
       "    <tr>\n",
       "      <th>Mono + a-Si</th>\n",
       "      <td>3448.000</td>\n",
       "      <td>3042.6450</td>\n",
       "      <td>4022.715</td>\n",
       "      <td>8651</td>\n",
       "    </tr>\n",
       "    <tr>\n",
       "      <th>Poly</th>\n",
       "      <td>3580.900</td>\n",
       "      <td>2828.5700</td>\n",
       "      <td>4400.000</td>\n",
       "      <td>68361</td>\n",
       "    </tr>\n",
       "    <tr>\n",
       "      <th>Thin Film</th>\n",
       "      <td>4736.120</td>\n",
       "      <td>3461.5100</td>\n",
       "      <td>6449.925</td>\n",
       "      <td>151</td>\n",
       "    </tr>\n",
       "    <tr>\n",
       "      <th>a-Si</th>\n",
       "      <td>3019.960</td>\n",
       "      <td>3019.9600</td>\n",
       "      <td>3019.960</td>\n",
       "      <td>1</td>\n",
       "    </tr>\n",
       "    <tr>\n",
       "      <th>crystalline</th>\n",
       "      <td>3700.000</td>\n",
       "      <td>3054.0175</td>\n",
       "      <td>4500.110</td>\n",
       "      <td>2454</td>\n",
       "    </tr>\n",
       "    <tr>\n",
       "      <th>multiple</th>\n",
       "      <td>3676.985</td>\n",
       "      <td>2577.1200</td>\n",
       "      <td>3961.870</td>\n",
       "      <td>58</td>\n",
       "    </tr>\n",
       "  </tbody>\n",
       "</table>\n",
       "</div>"
      ],
      "text/plain": [
       "                     median  percentile_25  percentile_75   count\n",
       "Module_Technology                                                \n",
       "CIGS               3789.975      3035.5550       4190.135      76\n",
       "CIS                3849.005      3432.3300       3997.225      36\n",
       "CdTe               1830.000      1772.2450       5914.145      15\n",
       "Mono               3877.150      3178.2350       4577.590  270635\n",
       "Mono + a-Si        3448.000      3042.6450       4022.715    8651\n",
       "Poly               3580.900      2828.5700       4400.000   68361\n",
       "Thin Film          4736.120      3461.5100       6449.925     151\n",
       "a-Si               3019.960      3019.9600       3019.960       1\n",
       "crystalline        3700.000      3054.0175       4500.110    2454\n",
       "multiple           3676.985      2577.1200       3961.870      58"
      ]
     },
     "execution_count": 472,
     "metadata": {},
     "output_type": "execute_result"
    }
   ],
   "source": [
    "tech_vs_cost[tech_vs_cost['year']>2008].groupby('Module_Technology')['cost_per_KW_with_rebate'].agg([np.median,percentile_25, percentile_75, 'count'])"
   ]
  },
  {
   "cell_type": "markdown",
   "metadata": {},
   "source": [
    "Mon - Monocrystalline Silicon Solar PV\n",
    "\n",
    "Poly - Polycrystalline Silicon Solar PV\n",
    "\n",
    "Thin Film - Thin Film Solar PV\n",
    "\n",
    "CdTe - Thin Film Solar Cadmium telluride photovoltaics\n",
    "\n",
    "CIGS - copper indium gallium diselenide\n",
    "\n",
    "a-Si - amorphous thin-film silicon\n",
    "      \n",
    "CIS- Copper, Indium and Selenium\n",
    "\n"
   ]
  },
  {
   "cell_type": "code",
   "execution_count": 400,
   "metadata": {},
   "outputs": [
    {
     "data": {
      "text/html": [
       "<div>\n",
       "<style scoped>\n",
       "    .dataframe tbody tr th:only-of-type {\n",
       "        vertical-align: middle;\n",
       "    }\n",
       "\n",
       "    .dataframe tbody tr th {\n",
       "        vertical-align: top;\n",
       "    }\n",
       "\n",
       "    .dataframe thead th {\n",
       "        text-align: right;\n",
       "    }\n",
       "</style>\n",
       "<table border=\"1\" class=\"dataframe\">\n",
       "  <thead>\n",
       "    <tr style=\"text-align: right;\">\n",
       "      <th></th>\n",
       "      <th>mean</th>\n",
       "      <th>percentile_25</th>\n",
       "      <th>percentile_75</th>\n",
       "      <th>count</th>\n",
       "    </tr>\n",
       "    <tr>\n",
       "      <th>Module_Technology</th>\n",
       "      <th></th>\n",
       "      <th></th>\n",
       "      <th></th>\n",
       "      <th></th>\n",
       "    </tr>\n",
       "  </thead>\n",
       "  <tbody>\n",
       "    <tr>\n",
       "      <th>CIGS</th>\n",
       "      <td>3983.314868</td>\n",
       "      <td>3035.5550</td>\n",
       "      <td>4190.135</td>\n",
       "      <td>76</td>\n",
       "    </tr>\n",
       "    <tr>\n",
       "      <th>CIS</th>\n",
       "      <td>3476.333056</td>\n",
       "      <td>3432.3300</td>\n",
       "      <td>3997.225</td>\n",
       "      <td>36</td>\n",
       "    </tr>\n",
       "    <tr>\n",
       "      <th>CdTe</th>\n",
       "      <td>3983.207333</td>\n",
       "      <td>1772.2450</td>\n",
       "      <td>5914.145</td>\n",
       "      <td>15</td>\n",
       "    </tr>\n",
       "    <tr>\n",
       "      <th>Mono</th>\n",
       "      <td>3877.403944</td>\n",
       "      <td>3178.2350</td>\n",
       "      <td>4577.590</td>\n",
       "      <td>270635</td>\n",
       "    </tr>\n",
       "    <tr>\n",
       "      <th>Mono + a-Si</th>\n",
       "      <td>3627.950358</td>\n",
       "      <td>3042.6450</td>\n",
       "      <td>4022.715</td>\n",
       "      <td>8651</td>\n",
       "    </tr>\n",
       "    <tr>\n",
       "      <th>Poly</th>\n",
       "      <td>4784.156089</td>\n",
       "      <td>2828.5700</td>\n",
       "      <td>4400.000</td>\n",
       "      <td>68361</td>\n",
       "    </tr>\n",
       "    <tr>\n",
       "      <th>Thin Film</th>\n",
       "      <td>4818.495099</td>\n",
       "      <td>3461.5100</td>\n",
       "      <td>6449.925</td>\n",
       "      <td>151</td>\n",
       "    </tr>\n",
       "    <tr>\n",
       "      <th>a-Si</th>\n",
       "      <td>3019.960000</td>\n",
       "      <td>3019.9600</td>\n",
       "      <td>3019.960</td>\n",
       "      <td>1</td>\n",
       "    </tr>\n",
       "    <tr>\n",
       "      <th>crystalline</th>\n",
       "      <td>3933.841822</td>\n",
       "      <td>3054.0175</td>\n",
       "      <td>4500.110</td>\n",
       "      <td>2454</td>\n",
       "    </tr>\n",
       "    <tr>\n",
       "      <th>multiple</th>\n",
       "      <td>3585.170345</td>\n",
       "      <td>2577.1200</td>\n",
       "      <td>3961.870</td>\n",
       "      <td>58</td>\n",
       "    </tr>\n",
       "  </tbody>\n",
       "</table>\n",
       "</div>"
      ],
      "text/plain": [
       "                          mean  percentile_25  percentile_75   count\n",
       "Module_Technology                                                   \n",
       "CIGS               3983.314868      3035.5550       4190.135      76\n",
       "CIS                3476.333056      3432.3300       3997.225      36\n",
       "CdTe               3983.207333      1772.2450       5914.145      15\n",
       "Mono               3877.403944      3178.2350       4577.590  270635\n",
       "Mono + a-Si        3627.950358      3042.6450       4022.715    8651\n",
       "Poly               4784.156089      2828.5700       4400.000   68361\n",
       "Thin Film          4818.495099      3461.5100       6449.925     151\n",
       "a-Si               3019.960000      3019.9600       3019.960       1\n",
       "crystalline        3933.841822      3054.0175       4500.110    2454\n",
       "multiple           3585.170345      2577.1200       3961.870      58"
      ]
     },
     "execution_count": 400,
     "metadata": {},
     "output_type": "execute_result"
    }
   ],
   "source": [
    "def percentile_75(x):\n",
    "    return np.percentile(x,75)\n",
    "def percentile_25(x):\n",
    "    return np.percentile(x,25)\n",
    "tech_vs_cost.groupby('Module_Technology')['cost_per_KW_with_rebate'].agg([np.mean,percentile_25, percentile_75, 'count'])"
   ]
  },
  {
   "cell_type": "code",
   "execution_count": 62,
   "metadata": {},
   "outputs": [
    {
     "data": {
      "text/html": [
       "<div>\n",
       "<style scoped>\n",
       "    .dataframe tbody tr th:only-of-type {\n",
       "        vertical-align: middle;\n",
       "    }\n",
       "\n",
       "    .dataframe tbody tr th {\n",
       "        vertical-align: top;\n",
       "    }\n",
       "\n",
       "    .dataframe thead th {\n",
       "        text-align: right;\n",
       "    }\n",
       "</style>\n",
       "<table border=\"1\" class=\"dataframe\">\n",
       "  <thead>\n",
       "    <tr style=\"text-align: right;\">\n",
       "      <th></th>\n",
       "      <th>mean</th>\n",
       "      <th>median</th>\n",
       "      <th>percentile_25</th>\n",
       "      <th>percentile_75</th>\n",
       "      <th>count</th>\n",
       "    </tr>\n",
       "    <tr>\n",
       "      <th>Module Technology #1</th>\n",
       "      <th></th>\n",
       "      <th></th>\n",
       "      <th></th>\n",
       "      <th></th>\n",
       "      <th></th>\n",
       "    </tr>\n",
       "  </thead>\n",
       "  <tbody>\n",
       "    <tr>\n",
       "      <th>CIGS</th>\n",
       "      <td>4543.995769</td>\n",
       "      <td>4149.680</td>\n",
       "      <td>2901.1700</td>\n",
       "      <td>5627.3750</td>\n",
       "      <td>891</td>\n",
       "    </tr>\n",
       "    <tr>\n",
       "      <th>CIS</th>\n",
       "      <td>4126.262222</td>\n",
       "      <td>3984.200</td>\n",
       "      <td>3115.4500</td>\n",
       "      <td>5526.1100</td>\n",
       "      <td>81</td>\n",
       "    </tr>\n",
       "    <tr>\n",
       "      <th>CdTe</th>\n",
       "      <td>6728.226571</td>\n",
       "      <td>6539.185</td>\n",
       "      <td>5414.0800</td>\n",
       "      <td>8882.4975</td>\n",
       "      <td>630</td>\n",
       "    </tr>\n",
       "    <tr>\n",
       "      <th>Mono</th>\n",
       "      <td>4151.998150</td>\n",
       "      <td>4055.220</td>\n",
       "      <td>3298.2500</td>\n",
       "      <td>4931.4350</td>\n",
       "      <td>529920</td>\n",
       "    </tr>\n",
       "    <tr>\n",
       "      <th>Mono + a-Si</th>\n",
       "      <td>4559.878288</td>\n",
       "      <td>4021.065</td>\n",
       "      <td>3250.0600</td>\n",
       "      <td>5767.3200</td>\n",
       "      <td>14122</td>\n",
       "    </tr>\n",
       "    <tr>\n",
       "      <th>Poly</th>\n",
       "      <td>6154.772923</td>\n",
       "      <td>4522.500</td>\n",
       "      <td>3538.0000</td>\n",
       "      <td>5120.0000</td>\n",
       "      <td>438113</td>\n",
       "    </tr>\n",
       "    <tr>\n",
       "      <th>Thin Film</th>\n",
       "      <td>4913.078374</td>\n",
       "      <td>4993.580</td>\n",
       "      <td>3456.4800</td>\n",
       "      <td>6639.1325</td>\n",
       "      <td>406</td>\n",
       "    </tr>\n",
       "    <tr>\n",
       "      <th>a-Si</th>\n",
       "      <td>5651.991894</td>\n",
       "      <td>5270.290</td>\n",
       "      <td>3539.0025</td>\n",
       "      <td>6519.1000</td>\n",
       "      <td>322</td>\n",
       "    </tr>\n",
       "    <tr>\n",
       "      <th>a-Si + Micro-c</th>\n",
       "      <td>5141.099281</td>\n",
       "      <td>4766.200</td>\n",
       "      <td>3628.0200</td>\n",
       "      <td>6217.8300</td>\n",
       "      <td>139</td>\n",
       "    </tr>\n",
       "    <tr>\n",
       "      <th>crystalline</th>\n",
       "      <td>4585.426336</td>\n",
       "      <td>4400.000</td>\n",
       "      <td>3500.0000</td>\n",
       "      <td>5256.0000</td>\n",
       "      <td>24797</td>\n",
       "    </tr>\n",
       "    <tr>\n",
       "      <th>multiple</th>\n",
       "      <td>6860.432288</td>\n",
       "      <td>4512.360</td>\n",
       "      <td>3607.5900</td>\n",
       "      <td>5397.7200</td>\n",
       "      <td>2443</td>\n",
       "    </tr>\n",
       "  </tbody>\n",
       "</table>\n",
       "</div>"
      ],
      "text/plain": [
       "                             mean    median  percentile_25  percentile_75  \\\n",
       "Module Technology #1                                                        \n",
       "CIGS                  4543.995769  4149.680      2901.1700      5627.3750   \n",
       "CIS                   4126.262222  3984.200      3115.4500      5526.1100   \n",
       "CdTe                  6728.226571  6539.185      5414.0800      8882.4975   \n",
       "Mono                  4151.998150  4055.220      3298.2500      4931.4350   \n",
       "Mono + a-Si           4559.878288  4021.065      3250.0600      5767.3200   \n",
       "Poly                  6154.772923  4522.500      3538.0000      5120.0000   \n",
       "Thin Film             4913.078374  4993.580      3456.4800      6639.1325   \n",
       "a-Si                  5651.991894  5270.290      3539.0025      6519.1000   \n",
       "a-Si + Micro-c        5141.099281  4766.200      3628.0200      6217.8300   \n",
       "crystalline           4585.426336  4400.000      3500.0000      5256.0000   \n",
       "multiple              6860.432288  4512.360      3607.5900      5397.7200   \n",
       "\n",
       "                       count  \n",
       "Module Technology #1          \n",
       "CIGS                     891  \n",
       "CIS                       81  \n",
       "CdTe                     630  \n",
       "Mono                  529920  \n",
       "Mono + a-Si            14122  \n",
       "Poly                  438113  \n",
       "Thin Film                406  \n",
       "a-Si                     322  \n",
       "a-Si + Micro-c           139  \n",
       "crystalline            24797  \n",
       "multiple                2443  "
      ]
     },
     "execution_count": 62,
     "metadata": {},
     "output_type": "execute_result"
    }
   ],
   "source": [
    "def percentile_75(x):\n",
    "    return np.percentile(x,75)\n",
    "def percentile_25(x):\n",
    "    return np.percentile(x,25)\n",
    "df_rep.groupby('Module Technology #1')['cost_per_KW_with_rebate'].agg([np.mean, np.median, percentile_25, percentile_75, 'count'])"
   ]
  },
  {
   "cell_type": "code",
   "execution_count": 52,
   "metadata": {},
   "outputs": [],
   "source": [
    "df_rep_CIS=df_rep[df_rep['Module Technology #1']=='CIS']['cost_per_KW_with_rebate']\n",
    "df_rep_CdTe=df_rep[df_rep['Module Technology #1']=='CdTe']['cost_per_KW_with_rebate']\n",
    "df_rep_Mono=df_rep[df_rep['Module Technology #1']=='Mono']['cost_per_KW_with_rebate']\n",
    "df_rep_MonoSci=df_rep[df_rep['Module Technology #1']=='Mono + a-Si']['cost_per_KW_with_rebate']\n",
    "df_rep_Poly=df_rep[df_rep['Module Technology #1']=='Poly']['cost_per_KW_with_rebate']\n",
    "df_rep_Thin_Film=df_rep[df_rep['Module Technology #1']=='Thin Film']['cost_per_KW_with_rebate']\n",
    "df_rep_crystalline=df_rep[df_rep['Module Technology #1']=='crystalline']['cost_per_KW_with_rebate']\n",
    "df_rep_multiple=df_rep[df_rep['Module Technology #1']=='multiple']['cost_per_KW_with_rebate']"
   ]
  },
  {
   "cell_type": "code",
   "execution_count": 59,
   "metadata": {},
   "outputs": [
    {
     "name": "stdout",
     "output_type": "stream",
     "text": [
      "stat=16444, p-value=0.000\n"
     ]
    }
   ],
   "source": [
    "stat, p = stats.kruskal(df_rep_CIS,df_rep_CdTe,df_rep_Mono,df_rep_MonoSci,df_rep_Poly, df_rep_Thin_Film, df_rep_crystalline, df_rep_multiple)\n",
    "print('stat=%.0f, p-value=%.3f' % (stat, p))"
   ]
  },
  {
   "cell_type": "code",
   "execution_count": 60,
   "metadata": {},
   "outputs": [
    {
     "name": "stdout",
     "output_type": "stream",
     "text": [
      "stat=15230, p-value=0.000\n"
     ]
    }
   ],
   "source": [
    "stat, p = stats.kruskal(df_rep_Mono,df_rep_Poly)\n",
    "print('stat=%.0f, p-value=%.3f' % (stat, p))"
   ]
  },
  {
   "cell_type": "code",
   "execution_count": 61,
   "metadata": {},
   "outputs": [
    {
     "name": "stdout",
     "output_type": "stream",
     "text": [
      "stat=99194543972, p-value=0.000\n"
     ]
    }
   ],
   "source": [
    "stat, p = stats.mannwhitneyu(df_rep_Mono,df_rep_Poly)\n",
    "print('stat=%.0f, p-value=%.3f' % (stat, p))"
   ]
  },
  {
   "cell_type": "code",
   "execution_count": 34,
   "metadata": {},
   "outputs": [
    {
     "data": {
      "text/html": [
       "<div>\n",
       "<style scoped>\n",
       "    .dataframe tbody tr th:only-of-type {\n",
       "        vertical-align: middle;\n",
       "    }\n",
       "\n",
       "    .dataframe tbody tr th {\n",
       "        vertical-align: top;\n",
       "    }\n",
       "\n",
       "    .dataframe thead th {\n",
       "        text-align: right;\n",
       "    }\n",
       "</style>\n",
       "<table border=\"1\" class=\"dataframe\">\n",
       "  <thead>\n",
       "    <tr style=\"text-align: right;\">\n",
       "      <th></th>\n",
       "      <th>mean</th>\n",
       "      <th>median</th>\n",
       "      <th>count</th>\n",
       "    </tr>\n",
       "    <tr>\n",
       "      <th>Module Technology #1</th>\n",
       "      <th></th>\n",
       "      <th></th>\n",
       "      <th></th>\n",
       "    </tr>\n",
       "  </thead>\n",
       "  <tbody>\n",
       "    <tr>\n",
       "      <th>CIGS</th>\n",
       "      <td>0.117233</td>\n",
       "      <td>0.128440</td>\n",
       "      <td>862</td>\n",
       "    </tr>\n",
       "    <tr>\n",
       "      <th>CIS</th>\n",
       "      <td>0.150983</td>\n",
       "      <td>0.152381</td>\n",
       "      <td>81</td>\n",
       "    </tr>\n",
       "    <tr>\n",
       "      <th>CdTe</th>\n",
       "      <td>0.104439</td>\n",
       "      <td>0.104167</td>\n",
       "      <td>627</td>\n",
       "    </tr>\n",
       "    <tr>\n",
       "      <th>Mono</th>\n",
       "      <td>0.181952</td>\n",
       "      <td>0.181847</td>\n",
       "      <td>496038</td>\n",
       "    </tr>\n",
       "    <tr>\n",
       "      <th>Mono + a-Si</th>\n",
       "      <td>0.186594</td>\n",
       "      <td>0.194611</td>\n",
       "      <td>14029</td>\n",
       "    </tr>\n",
       "    <tr>\n",
       "      <th>Poly</th>\n",
       "      <td>0.156783</td>\n",
       "      <td>0.158683</td>\n",
       "      <td>398734</td>\n",
       "    </tr>\n",
       "    <tr>\n",
       "      <th>Thin Film</th>\n",
       "      <td>0.153520</td>\n",
       "      <td>0.139860</td>\n",
       "      <td>406</td>\n",
       "    </tr>\n",
       "    <tr>\n",
       "      <th>a-Si</th>\n",
       "      <td>0.061981</td>\n",
       "      <td>0.062000</td>\n",
       "      <td>312</td>\n",
       "    </tr>\n",
       "    <tr>\n",
       "      <th>a-Si + Micro-c</th>\n",
       "      <td>0.092638</td>\n",
       "      <td>0.094156</td>\n",
       "      <td>35</td>\n",
       "    </tr>\n",
       "    <tr>\n",
       "      <th>crystalline</th>\n",
       "      <td>NaN</td>\n",
       "      <td>NaN</td>\n",
       "      <td>0</td>\n",
       "    </tr>\n",
       "    <tr>\n",
       "      <th>multiple</th>\n",
       "      <td>NaN</td>\n",
       "      <td>NaN</td>\n",
       "      <td>0</td>\n",
       "    </tr>\n",
       "  </tbody>\n",
       "</table>\n",
       "</div>"
      ],
      "text/plain": [
       "                          mean    median   count\n",
       "Module Technology #1                            \n",
       "CIGS                  0.117233  0.128440     862\n",
       "CIS                   0.150983  0.152381      81\n",
       "CdTe                  0.104439  0.104167     627\n",
       "Mono                  0.181952  0.181847  496038\n",
       "Mono + a-Si           0.186594  0.194611   14029\n",
       "Poly                  0.156783  0.158683  398734\n",
       "Thin Film             0.153520  0.139860     406\n",
       "a-Si                  0.061981  0.062000     312\n",
       "a-Si + Micro-c        0.092638  0.094156      35\n",
       "crystalline                NaN       NaN       0\n",
       "multiple                   NaN       NaN       0"
      ]
     },
     "execution_count": 34,
     "metadata": {},
     "output_type": "execute_result"
    }
   ],
   "source": [
    "df_rep.groupby('Module Technology #1')['Module Efficiency #1'].agg([np.mean,np.median, 'count'])"
   ]
  },
  {
   "cell_type": "code",
   "execution_count": null,
   "metadata": {},
   "outputs": [],
   "source": []
  }
 ],
 "metadata": {
  "kernelspec": {
   "display_name": "Python 3",
   "language": "python",
   "name": "python3"
  },
  "language_info": {
   "codemirror_mode": {
    "name": "ipython",
    "version": 3
   },
   "file_extension": ".py",
   "mimetype": "text/x-python",
   "name": "python",
   "nbconvert_exporter": "python",
   "pygments_lexer": "ipython3",
   "version": "3.7.7"
  }
 },
 "nbformat": 4,
 "nbformat_minor": 4
}
